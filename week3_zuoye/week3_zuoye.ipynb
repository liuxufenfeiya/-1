{
 "cells": [
  {
   "cell_type": "code",
   "execution_count": 86,
   "metadata": {},
   "outputs": [],
   "source": [
    "class Person(object):\n",
    "    def __init__ (self,name,age,birthplace,favorite):\n",
    "        self.name=name\n",
    "        self.age=age\n",
    "        self.birthplace=birthplace\n",
    "        self.favorite=favorite\n",
    "    \n",
    "    def tolist(self):\n",
    "        return(self.name,self.age,self.birthplace,self.favorite)\n",
    "    \n",
    "    def setAge(self,age):\n",
    "        self.age=age\n",
    "    \n",
    "    def setName(self,name):\n",
    "        self.name=name"
   ]
  },
  {
   "cell_type": "code",
   "execution_count": 87,
   "metadata": {},
   "outputs": [],
   "source": [
    "a1=Person(\"geqiang\",24,\"harbin\",\"eat\")\n",
    "a2=Person(\"xuyongda\",25,\"chuzhou\",\"read\")\n",
    "a3=Person(\"andong\",25,\"dawang\",\"dota\")\n",
    "a4=Person(\"s\",26,\"chuzhou\",\"sleep\")"
   ]
  },
  {
   "cell_type": "code",
   "execution_count": 88,
   "metadata": {},
   "outputs": [
    {
     "data": {
      "text/plain": [
       "[<__main__.Person at 0x214d0ec6320>,\n",
       " <__main__.Person at 0x214d0ec6358>,\n",
       " <__main__.Person at 0x214d0ec63c8>,\n",
       " <__main__.Person at 0x214d0ec3be0>]"
      ]
     },
     "execution_count": 88,
     "metadata": {},
     "output_type": "execute_result"
    }
   ],
   "source": [
    "a=[a1,a2,a3,a4]\n",
    "a"
   ]
  },
  {
   "cell_type": "code",
   "execution_count": 89,
   "metadata": {},
   "outputs": [
    {
     "name": "stdout",
     "output_type": "stream",
     "text": [
      "('geqiang', 24, 'harbin', 'eat')\n",
      "('xuyongda', 25, 'chuzhou', 'read')\n",
      "('andong', 25, 'dawang', 'dota')\n",
      "('s', 26, 'chuzhou', 'sleep')\n"
     ]
    }
   ],
   "source": [
    "for p in a:\n",
    "    print(p.tolist())"
   ]
  },
  {
   "cell_type": "code",
   "execution_count": 90,
   "metadata": {},
   "outputs": [
    {
     "data": {
      "text/plain": [
       "20"
      ]
     },
     "execution_count": 90,
     "metadata": {},
     "output_type": "execute_result"
    }
   ],
   "source": [
    "a3.setAge(20)\n",
    "a3.age"
   ]
  },
  {
   "cell_type": "code",
   "execution_count": 91,
   "metadata": {},
   "outputs": [
    {
     "name": "stdout",
     "output_type": "stream",
     "text": [
      "('geqiang', 24, 'harbin', 'eat')\n",
      "('andong', 20, 'dawang', 'dota')\n",
      "('s', 26, 'chuzhou', 'sleep')\n"
     ]
    }
   ],
   "source": [
    "del a[1]\n",
    "for p in a:\n",
    "    print(p.tolist())"
   ]
  },
  {
   "cell_type": "code",
   "execution_count": 92,
   "metadata": {},
   "outputs": [
    {
     "data": {
      "text/plain": [
       "'ad'"
      ]
     },
     "execution_count": 92,
     "metadata": {},
     "output_type": "execute_result"
    }
   ],
   "source": [
    "a3.setName(\"ad\")\n",
    "a3.name"
   ]
  },
  {
   "cell_type": "code",
   "execution_count": null,
   "metadata": {
    "collapsed": true
   },
   "outputs": [],
   "source": []
  }
 ],
 "metadata": {
  "kernelspec": {
   "display_name": "Python 3",
   "language": "python",
   "name": "python3"
  },
  "language_info": {
   "codemirror_mode": {
    "name": "ipython",
    "version": 3
   },
   "file_extension": ".py",
   "mimetype": "text/x-python",
   "name": "python",
   "nbconvert_exporter": "python",
   "pygments_lexer": "ipython3",
   "version": "3.6.3"
  }
 },
 "nbformat": 4,
 "nbformat_minor": 2
}
