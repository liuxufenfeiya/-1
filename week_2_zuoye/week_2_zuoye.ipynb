{
 "cells": [
  {
   "cell_type": "code",
   "execution_count": 9,
   "metadata": {
    "collapsed": true
   },
   "outputs": [],
   "source": [
    "na1={\"name\":\"Ge Qiang\",\"age\":24,\"birth place\":\"Harbin\",\"favorite\":\"eat\"}\n",
    "na2={\"name\":\"Xu Yongda\",\"age\":26,\"birth place\":\"Chuzhou\",\"favorite\":\"read\"}\n",
    "na3={\"name\":\"An Dong\",\"age\":25,\"birth place\":\"Chuzhou\",\"favorite\":\"Dota\"}"
   ]
  },
  {
   "cell_type": "code",
   "execution_count": 85,
   "metadata": {},
   "outputs": [
    {
     "data": {
      "text/plain": [
       "[{'favorite': 'read', 'name': 'Xu Yongda'},\n",
       " {'favorite': 'Dota', 'name': 'An Dong'}]"
      ]
     },
     "execution_count": 85,
     "metadata": {},
     "output_type": "execute_result"
    }
   ],
   "source": [
    "a=[na2,na3]\n",
    "a"
   ]
  },
  {
   "cell_type": "code",
   "execution_count": 11,
   "metadata": {},
   "outputs": [
    {
     "data": {
      "text/plain": [
       "[{'age': 26,\n",
       "  'birth place': 'Chuzhou',\n",
       "  'favorite': 'read',\n",
       "  'name': 'Xu Yongda'},\n",
       " {'age': 25, 'birth place': 'Chuzhou', 'favorite': 'Dota', 'name': 'An Dong'},\n",
       " {'age': 24, 'birth place': 'Harbin', 'favorite': 'eat', 'name': 'Ge Qiang'}]"
      ]
     },
     "execution_count": 11,
     "metadata": {},
     "output_type": "execute_result"
    }
   ],
   "source": [
    "a.sort(key=lambda x:(x['birth place']))\n",
    "a"
   ]
  },
  {
   "cell_type": "code",
   "execution_count": 12,
   "metadata": {},
   "outputs": [
    {
     "data": {
      "text/plain": [
       "[{'age': 24, 'birth place': 'Harbin', 'favorite': 'eat', 'name': 'Ge Qiang'},\n",
       " {'age': 25, 'birth place': 'Chuzhou', 'favorite': 'Dota', 'name': 'An Dong'},\n",
       " {'age': 26,\n",
       "  'birth place': 'Chuzhou',\n",
       "  'favorite': 'read',\n",
       "  'name': 'Xu Yongda'}]"
      ]
     },
     "execution_count": 12,
     "metadata": {},
     "output_type": "execute_result"
    }
   ],
   "source": [
    "a.reverse()\n",
    "a"
   ]
  },
  {
   "cell_type": "code",
   "execution_count": 57,
   "metadata": {},
   "outputs": [
    {
     "data": {
      "text/plain": [
       "{'birth place': 'Da Wang', 'favorite': 'read', 'name': 'Xu Yongda'}"
      ]
     },
     "execution_count": 57,
     "metadata": {},
     "output_type": "execute_result"
    }
   ],
   "source": [
    "na2[ 'birth place']=\"Da Wang\"\n",
    "na2"
   ]
  },
  {
   "cell_type": "code",
   "execution_count": 58,
   "metadata": {},
   "outputs": [
    {
     "data": {
      "text/plain": [
       "[{'name': 'Ge Qiang'},\n",
       " {'age': 25, 'birth place': 'Chuzhou', 'favorite': 'Dota', 'name': 'An Dong'},\n",
       " {'birth place': 'Da Wang', 'favorite': 'read', 'name': 'Xu Yongda'}]"
      ]
     },
     "execution_count": 58,
     "metadata": {},
     "output_type": "execute_result"
    }
   ],
   "source": [
    "a"
   ]
  },
  {
   "cell_type": "code",
   "execution_count": 79,
   "metadata": {},
   "outputs": [
    {
     "data": {
      "text/plain": [
       "[{'name': 'Ge Qiang'},\n",
       " {'favorite': 'Dota', 'name': 'An Dong'},\n",
       " {'favorite': 'read', 'name': 'Xu Yongda'}]"
      ]
     },
     "execution_count": 79,
     "metadata": {},
     "output_type": "execute_result"
    }
   ],
   "source": [
    "a"
   ]
  },
  {
   "cell_type": "code",
   "execution_count": 74,
   "metadata": {},
   "outputs": [
    {
     "data": {
      "text/plain": [
       "{'birth place': 'Chuzhou', 'favorite': 'Dota', 'name': 'An Dong'}"
      ]
     },
     "execution_count": 74,
     "metadata": {},
     "output_type": "execute_result"
    }
   ],
   "source": []
  },
  {
   "cell_type": "code",
   "execution_count": null,
   "metadata": {
    "collapsed": true
   },
   "outputs": [],
   "source": []
  }
 ],
 "metadata": {
  "kernelspec": {
   "display_name": "Python 3",
   "language": "python",
   "name": "python3"
  },
  "language_info": {
   "codemirror_mode": {
    "name": "ipython",
    "version": 3
   },
   "file_extension": ".py",
   "mimetype": "text/x-python",
   "name": "python",
   "nbconvert_exporter": "python",
   "pygments_lexer": "ipython3",
   "version": "3.6.3"
  }
 },
 "nbformat": 4,
 "nbformat_minor": 2
}
